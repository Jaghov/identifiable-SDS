{
 "cells": [
  {
   "cell_type": "code",
   "execution_count": 5,
   "metadata": {},
   "outputs": [],
   "source": [
    "import torch\n",
    "\n",
    "from torch.utils.data import DataLoader, TensorDataset\n",
    "\n",
    "from models.VariationalSNLDS import VariationalSNLDS\n",
    "from models.FlowSNLDS2 import FlowSNLDS\n",
    "from models.NeuralMSM import NeuralMSM\n",
    "from dataloaders.BouncingBallDataLoader import BouncingBallDataLoader\n",
    "\n",
    "from scipy.optimize import linear_sum_assignment\n",
    "from torch.distributions import Categorical\n",
    "import numpy as np\n",
    "import matplotlib.pyplot as plt\n"
   ]
  },
  {
   "cell_type": "code",
   "execution_count": 81,
   "metadata": {},
   "outputs": [],
   "source": [
    "images = True\n",
    "if images:\n",
    "    pre_train_check = 10\n",
    "    init_temperature = 10\n",
    "    iter_update_temp = 50\n",
    "    iter_check_temp = 200\n",
    "    epoch_num = 200\n",
    "    learning_rate = 5e-4\n",
    "    gamma_decay = 0.8\n",
    "    scheduler_epochs = 80\n",
    "    decay_rate = 0.975\n",
    "else:           \n",
    "    pre_train_check = 0\n",
    "    init_temperature = 1\n",
    "    iter_update_temp = 50\n",
    "    iter_check_temp = 1000\n",
    "    epoch_num = 100\n",
    "    learning_rate = 1e-4\n",
    "    gamma_decay = 0.5\n",
    "    scheduler_epochs = 40\n",
    "    decay_rate = 0.9\n",
    "dim_obs = 2\n",
    "dim_latent = 2\n",
    "num_states = 3\n",
    "resolution = 16\n",
    "device = 'cuda:0'\n",
    "MODEL_PATH = 'results/models_sds/inferred_params_N_5000_T_200_dim_latent_2_dim_obs_2_state_3_sparsity_0.0_net_cosine_seed_24_best_model.pth copy.tar'\n",
    "OBS_PATH = 'data/latent_variables/obs_test_N_500_T_200_dim_latent_2_dim_obs_2_state_3_sparsity_0.0_net_cosine_seed_24.npy'\n",
    "STATES_PATH = 'data/latent_variables/states_test_N_500_T_200_dim_latent_2_dim_obs_2_state_3_sparsity_0.0_net_cosine_seed_24.npy'\n",
    "IMG_MODEL_PATH = 'results/models_sds/inferred_params_images_N_5000_T_100_dim_latent_2_resolution_16_state_3_sparsity_0.0_net_cosine_seed_24_bestflow.pth.tar'\n",
    "IMG_OBS_PATH = 'data/latent_variables/images_test_N_500_T_100_dim_latent_2_dim_obs_2_resolution_16_state_3_sparsity_0.0_net_cosine_seed_24'\n",
    "IMG_STATES_PATH = 'data/latent_variables/states_test_N_500_T_100_dim_latent_2_dim_obs_2_state_3_sparsity_0.0_net_cosine_seed_24.npy'\n",
    "\n"
   ]
  },
  {
   "cell_type": "code",
   "execution_count": 97,
   "metadata": {},
   "outputs": [
    {
     "ename": "AttributeError",
     "evalue": "'BouncingBallDataLoader' object has no attribute 'numpy'",
     "output_type": "error",
     "traceback": [
      "\u001b[0;31m---------------------------------------------------------------------------\u001b[0m",
      "\u001b[0;31mAttributeError\u001b[0m                            Traceback (most recent call last)",
      "Cell \u001b[0;32mIn[97], line 2\u001b[0m\n\u001b[1;32m      1\u001b[0m \u001b[38;5;28;01mif\u001b[39;00m images:\n\u001b[0;32m----> 2\u001b[0m     dl \u001b[38;5;241m=\u001b[39m \u001b[43mBouncingBallDataLoader\u001b[49m\u001b[43m(\u001b[49m\u001b[43mIMG_OBS_PATH\u001b[49m\u001b[43m)\u001b[49m\u001b[38;5;241;43m.\u001b[39;49m\u001b[43mnumpy\u001b[49m()\n\u001b[1;32m      4\u001b[0m     dataloader \u001b[38;5;241m=\u001b[39m DataLoader(dl, batch_size\u001b[38;5;241m=\u001b[39m\u001b[38;5;241m1\u001b[39m, shuffle\u001b[38;5;241m=\u001b[39m\u001b[38;5;28;01mFalse\u001b[39;00m)\n\u001b[1;32m      5\u001b[0m     states \u001b[38;5;241m=\u001b[39m np\u001b[38;5;241m.\u001b[39mload(IMG_STATES_PATH)\n",
      "\u001b[0;31mAttributeError\u001b[0m: 'BouncingBallDataLoader' object has no attribute 'numpy'"
     ]
    }
   ],
   "source": [
    "if images:\n",
    "    dl = BouncingBallDataLoader(IMG_OBS_PATH)\n",
    "    dataloader = DataLoader(dl, batch_size=1, shuffle=False)\n",
    "    states = np.load(IMG_STATES_PATH)\n",
    "    states_dataset = TensorDataset(torch.from_numpy(states).float())\n",
    "else:\n",
    "    obs = np.load(OBS_PATH)\n",
    "    obs_dataset = TensorDataset(torch.from_numpy(obs).float())\n",
    "    states = np.load(STATES_PATH)\n",
    "    states_dataset = TensorDataset(torch.from_numpy(states).float())"
   ]
  },
  {
   "cell_type": "code",
   "execution_count": 86,
   "metadata": {},
   "outputs": [],
   "source": [
    "sample_num = 5"
   ]
  },
  {
   "cell_type": "code",
   "execution_count": 110,
   "metadata": {},
   "outputs": [
    {
     "data": {
      "text/plain": [
       "torch.Size([1, 100, 3, 16, 16])"
      ]
     },
     "execution_count": 110,
     "metadata": {},
     "output_type": "execute_result"
    }
   ],
   "source": [
    "sample = torch.from_numpy(dl[sample_num][0]).float().unsqueeze(0).to(device)\n",
    "sample.shape"
   ]
  },
  {
   "cell_type": "code",
   "execution_count": 158,
   "metadata": {},
   "outputs": [],
   "source": [
    "state_sample = states_dataset[sample_num][0].to(device).reshape(1,100)"
   ]
  },
  {
   "cell_type": "code",
   "execution_count": 64,
   "metadata": {},
   "outputs": [
    {
     "data": {
      "text/plain": [
       "FlowSNLDS(\n",
       "  (transitions): ModuleList(\n",
       "    (0-2): 3 x MLP(\n",
       "      (fc_1): Linear(in_features=2, out_features=16, bias=True)\n",
       "      (fc_2): Linear(in_features=16, out_features=16, bias=True)\n",
       "      (fc_out): Linear(in_features=16, out_features=2, bias=True)\n",
       "    )\n",
       "  )\n",
       "  (encoder): Glow(\n",
       "    (preprocess): Preprocess()\n",
       "    (flow_layers): ModuleList(\n",
       "      (0): FlowBlock(\n",
       "        (flow_steps): ModuleList(\n",
       "          (0-15): 16 x FlowStep(\n",
       "            (layers): ModuleList(\n",
       "              (0): Actnorm()\n",
       "              (1): Inv1x1Conv()\n",
       "              (2): AffineCoupling(\n",
       "                (net): ConvBlock(\n",
       "                  (net): Sequential(\n",
       "                    (0): WeightNormConv2d(\n",
       "                      (conv): Conv2d(6, 512, kernel_size=(3, 3), stride=(1, 1), padding=(1, 1))\n",
       "                    )\n",
       "                    (1): ReLU()\n",
       "                    (2): WeightNormConv2d(\n",
       "                      (conv): Conv2d(512, 512, kernel_size=(1, 1), stride=(1, 1))\n",
       "                    )\n",
       "                    (3): ReLU()\n",
       "                    (4): WeightNormConv2d(\n",
       "                      (conv): Conv2d(512, 12, kernel_size=(3, 3), stride=(1, 1), padding=(1, 1))\n",
       "                    )\n",
       "                  )\n",
       "                )\n",
       "              )\n",
       "            )\n",
       "          )\n",
       "        )\n",
       "      )\n",
       "      (1): FlowBlock(\n",
       "        (flow_steps): ModuleList(\n",
       "          (0-15): 16 x FlowStep(\n",
       "            (layers): ModuleList(\n",
       "              (0): Actnorm()\n",
       "              (1): Inv1x1Conv()\n",
       "              (2): AffineCoupling(\n",
       "                (net): ConvBlock(\n",
       "                  (net): Sequential(\n",
       "                    (0): WeightNormConv2d(\n",
       "                      (conv): Conv2d(12, 512, kernel_size=(3, 3), stride=(1, 1), padding=(1, 1))\n",
       "                    )\n",
       "                    (1): ReLU()\n",
       "                    (2): WeightNormConv2d(\n",
       "                      (conv): Conv2d(512, 512, kernel_size=(1, 1), stride=(1, 1))\n",
       "                    )\n",
       "                    (3): ReLU()\n",
       "                    (4): WeightNormConv2d(\n",
       "                      (conv): Conv2d(512, 24, kernel_size=(3, 3), stride=(1, 1), padding=(1, 1))\n",
       "                    )\n",
       "                  )\n",
       "                )\n",
       "              )\n",
       "            )\n",
       "          )\n",
       "        )\n",
       "      )\n",
       "      (2): FlowBlock(\n",
       "        (flow_steps): ModuleList(\n",
       "          (0-15): 16 x FlowStep(\n",
       "            (layers): ModuleList(\n",
       "              (0): Actnorm()\n",
       "              (1): Inv1x1Conv()\n",
       "              (2): AffineCoupling(\n",
       "                (net): ConvBlock(\n",
       "                  (net): Sequential(\n",
       "                    (0): WeightNormConv2d(\n",
       "                      (conv): Conv2d(24, 512, kernel_size=(3, 3), stride=(1, 1), padding=(1, 1))\n",
       "                    )\n",
       "                    (1): ReLU()\n",
       "                    (2): WeightNormConv2d(\n",
       "                      (conv): Conv2d(512, 512, kernel_size=(1, 1), stride=(1, 1))\n",
       "                    )\n",
       "                    (3): ReLU()\n",
       "                    (4): WeightNormConv2d(\n",
       "                      (conv): Conv2d(512, 48, kernel_size=(3, 3), stride=(1, 1), padding=(1, 1))\n",
       "                    )\n",
       "                  )\n",
       "                )\n",
       "              )\n",
       "            )\n",
       "          )\n",
       "        )\n",
       "      )\n",
       "    )\n",
       "  )\n",
       ")"
      ]
     },
     "execution_count": 64,
     "metadata": {},
     "output_type": "execute_result"
    }
   ],
   "source": [
    "model = FlowSNLDS(dim_obs, dim_latent, hidden_dim=16, num_states=num_states, encoder_type='video' if images else 'factored', device=device, annealing=True, inference='alpha').to(device)\n",
    "optimizer = torch.optim.Adam(model.parameters(), lr=learning_rate)\n",
    "\n",
    "\n",
    "\n",
    "model.eval()"
   ]
  },
  {
   "cell_type": "code",
   "execution_count": 16,
   "metadata": {},
   "outputs": [],
   "source": [
    "# model  = VariationalSNLDS(dim_obs, dim_latent, 64, num_states, encoder_type='recurent', device=device, annealing=True, inference='alpha', beta=1)\n",
    "# optimizer = torch.optim.Adam(model.parameters(), lr=learning_rate)\n",
    "\n",
    "\n",
    "\n",
    "# model.eval()"
   ]
  },
  {
   "cell_type": "code",
   "execution_count": 17,
   "metadata": {},
   "outputs": [],
   "source": [
    "# best_model = NeuralMSM(num_states, dim_latent, hid_dim=16, device=device, lr=7e-3, causal=False, l1_penalty=0, l2_penalty=0, activation='cos') # should be softplus\n",
    "# model.transitions = best_model.transitions.to(device)\n",
    "# model.Q = torch.nn.Parameter(best_model.Q.log()).to(device)\n",
    "# model.pi = torch.nn.Parameter(best_model.pi.log().to(device))\n",
    "# model.init_cov = torch.nn.Parameter(best_model.init_cov.to(device))\n",
    "# model.init_mean = torch.nn.Parameter(best_model.init_mean.to(device))"
   ]
  },
  {
   "cell_type": "code",
   "execution_count": 18,
   "metadata": {},
   "outputs": [],
   "source": [
    "# print(sample)"
   ]
  },
  {
   "cell_type": "code",
   "execution_count": 67,
   "metadata": {},
   "outputs": [],
   "source": [
    "with torch.no_grad():\n",
    "    model(sample)"
   ]
  },
  {
   "cell_type": "code",
   "execution_count": 66,
   "metadata": {},
   "outputs": [
    {
     "data": {
      "text/plain": [
       "<All keys matched successfully>"
      ]
     },
     "execution_count": 66,
     "metadata": {},
     "output_type": "execute_result"
    }
   ],
   "source": [
    "checkpoint = torch.load(IMG_MODEL_PATH)\n",
    "model.load_state_dict(checkpoint['model'])"
   ]
  },
  {
   "cell_type": "code",
   "execution_count": 21,
   "metadata": {},
   "outputs": [],
   "source": [
    "# def viterbi_sequence(model, input, seq_len=None):\n",
    "#     (B, T, *_) = input.size()\n",
    "#     if seq_len is None:\n",
    "#         seq_len = T\n",
    "#     z_sample, _ = model._encode_obs(input)\n",
    "#     z_sample = z_sample.reshape(B,T,-1)\n",
    "#     log_evidence = model._compute_local_evidence(z_sample)\n",
    "    \n",
    "#     delta = torch.zeros_like(log_evidence)\n",
    "#     psi = torch.zeros(B, T, model.num_states, dtype=torch.long)\n",
    "#     state_sequence = torch.zeros(B,T)\n",
    "    \n",
    "    \n",
    "#     delta[:,0, :] = model.pi[None, :].expand(B, -1) + log_evidence[:,0,:]\n",
    "    \n",
    "#     Q = model.Q[None,:,:].expand(B,-1,-1)\n",
    "    \n",
    "#     for t in range(1, T):\n",
    "#         max_transition_probs, max_transition_states = (\n",
    "#             (delta[:, t-1, :].unsqueeze(-1) + Q).max(dim=1)\n",
    "#         )\n",
    "#         delta[:, t, :] = max_transition_probs + log_evidence[:, t, :]\n",
    "#         psi[:, t, :] = max_transition_states\n",
    "\n",
    "#     # Backtracking\n",
    "#     state_sequence[:, -1] = delta[:, -1, :].argmax(dim=-1)\n",
    "#     for t in range(T-2, -1, -1):\n",
    "#         state_sequence[:, t] = psi[:, t+1, int(state_sequence[:, t+1])]\n",
    "\n",
    "#     return state_sequence"
   ]
  },
  {
   "cell_type": "code",
   "execution_count": 159,
   "metadata": {},
   "outputs": [],
   "source": [
    "def viterbi_sequence(model, input, seq_len=None):\n",
    "    (B, T, *_) = input.size()\n",
    "    if seq_len is None:\n",
    "        seq_len = T\n",
    "    z_sample, _ = model._encode_obs(input)\n",
    "\n",
    "    if model.encoder_type == 'video':\n",
    "        (B, T, C, H, W) = input.shape\n",
    "\n",
    "        z = z_sample.reshape(B, T, -1)\n",
    "        z_temporal, z_image = z[:,:,-model.latent_dim:], z[:,:,:-model.latent_dim]\n",
    "    else:\n",
    "        (B, T, _) = x.shape\n",
    "        z_temporal = z_sample.reshape(B, T, -1)\n",
    "    gamma = None\n",
    "    log_evidence = model._compute_local_evidence(z_temporal)\n",
    "    \n",
    "    delta = torch.zeros(B, seq_len, 3, dtype=torch.float).to(device)\n",
    "    psi = torch.zeros(B, T, model.num_states, dtype=torch.long)\n",
    "    state_sequence = torch.zeros(B,T, dtype=torch.int)\n",
    "    \n",
    "    \n",
    "    delta[:,0, :] = model.pi[None, :].expand(B, -1) + log_evidence[:,0,:]\n",
    "    \n",
    "    Q = model.Q[None,:,:].expand(B,-1,-1)\n",
    "    \n",
    "    for t in range(1,seq_len):\n",
    "        transition_probs, max_transition_states =  (delta[:,t-1,:].reshape(B,model.num_states, 1) + Q).max(dim=-2)\n",
    "        delta[:, t, :] = transition_probs + log_evidence[:, t, :]\n",
    "        psi[:,t,:] = max_transition_states\n",
    "        \n",
    "    state_sequence[:, -1] = delta[:, -1, :].argmax(dim=-1)\n",
    "    for t in range(T-2, -1, -1):\n",
    "        state_sequence[:, t] = psi[:, t+1, int(state_sequence[:, t+1])].int()\n",
    "        \n",
    "    return state_sequence\n",
    "\n",
    "def greedy_sequence(model, input, seq_len=None):\n",
    "    (B, T, *_) = input.size()\n",
    "    if seq_len is None:\n",
    "        seq_len = T\n",
    "    z_sample, _ = model._encode_obs(input)\n",
    "\n",
    "    if model.encoder_type == 'video':\n",
    "        (B, T, C, H, W) = input.shape\n",
    "\n",
    "        z = z_sample.reshape(B, T, -1)\n",
    "        z_temporal, z_image = z[:,:,-model.latent_dim:], z[:,:,:-model.latent_dim]\n",
    "    else:\n",
    "        (B, T, _) = x.shape\n",
    "        z_temporal = z_sample.reshape(B, T, -1)\n",
    "    gamma = None\n",
    "    log_evidence = model._compute_local_evidence(z_temporal)\n",
    "    gamma, epsilon = model._compute_posteriors(log_evidence)\n",
    "    \n",
    "    \n",
    "    state_sequence = torch.zeros(B,T)\n",
    "    \n",
    "    \n",
    "    state_sequence = gamma.argmax(dim=2)\n",
    "\n",
    "    \n",
    "        \n",
    "    return state_sequence"
   ]
  },
  {
   "cell_type": "code",
   "execution_count": 160,
   "metadata": {},
   "outputs": [],
   "source": [
    "with torch.no_grad():\n",
    "    predicted_states1 = greedy_sequence(model, sample)\n",
    "    predicted_states = viterbi_sequence(model, sample)"
   ]
  },
  {
   "cell_type": "code",
   "execution_count": 161,
   "metadata": {},
   "outputs": [
    {
     "data": {
      "image/png": "[encoded data removed]",
      "text/plain": [
       "<Figure size 1000x300 with 2 Axes>"
      ]
     },
     "metadata": {},
     "output_type": "display_data"
    },
    {
     "data": {
      "image/png": "[encoded data removed]",
      "text/plain": [
       "<Figure size 1000x300 with 2 Axes>"
      ]
     },
     "metadata": {},
     "output_type": "display_data"
    }
   ],
   "source": [
    "def plot_state_sequence(sequence, num_states=3):\n",
    "    T = sequence.shape[0]\n",
    "    \n",
    "    # Create a binary matrix where each row corresponds to a state and each column corresponds to a time step\n",
    "    activation_matrix = np.zeros((num_states, T))\n",
    "    \n",
    "    for t in range(T):\n",
    "        activation_matrix[int(sequence[t]), t] = 1\n",
    "\n",
    "    plt.figure(figsize=(10, num_states))\n",
    "    plt.imshow(activation_matrix, aspect='auto', cmap='cividis')\n",
    "    plt.yticks(np.arange(num_states))  # Show state numbers on the y-axis\n",
    "    plt.xticks(np.arange(0, T, step=5))\n",
    "    plt.xlabel(\"Time Step\")\n",
    "    plt.ylabel(\"States\")\n",
    "    plt.title(\"State Activations Over Time\")\n",
    "    plt.colorbar(label=\"State Active (1) or Not (0)\")\n",
    "    plt.tight_layout()\n",
    "    plt.show()\n",
    "    \n",
    "plot_state_sequence(state_sample[:,:].flatten().to('cpu').numpy())\n",
    "plot_state_sequence(predicted_states[:,:].flatten().to('cpu').numpy())\n",
    "# plot_state_sequence(predicted_states1[:,:].flatten().to('cpu').numpy())"
   ]
  },
  {
   "cell_type": "code",
   "execution_count": 168,
   "metadata": {},
   "outputs": [
    {
     "name": "stdout",
     "output_type": "stream",
     "text": [
      "torch.Size([1, 100])\n"
     ]
    }
   ],
   "source": [
    "print(state_sample.shape)"
   ]
  },
  {
   "cell_type": "code",
   "execution_count": 175,
   "metadata": {},
   "outputs": [
    {
     "name": "stdout",
     "output_type": "stream",
     "text": [
      "tensor([0., 1., 2.], device='cuda:0')\n"
     ]
    },
    {
     "ename": "TypeError",
     "evalue": "sum() received an invalid combination of arguments - got (out=NoneType, axis=NoneType, ), but expected one of:\n * (*, torch.dtype dtype)\n      didn't match because some of the keywords were incorrect: out, axis\n * (tuple of ints dim, bool keepdim, *, torch.dtype dtype)\n * (tuple of names dim, bool keepdim, *, torch.dtype dtype)\n",
     "output_type": "error",
     "traceback": [
      "\u001b[0;31m---------------------------------------------------------------------------\u001b[0m",
      "\u001b[0;31mTypeError\u001b[0m                                 Traceback (most recent call last)",
      "Cell \u001b[0;32mIn[175], line 21\u001b[0m\n\u001b[1;32m     19\u001b[0m \u001b[38;5;28;01mfor\u001b[39;00m i \u001b[38;5;129;01min\u001b[39;00m \u001b[38;5;28mrange\u001b[39m(\u001b[38;5;28mlen\u001b[39m(states)):\n\u001b[1;32m     20\u001b[0m     \u001b[38;5;28;01mfor\u001b[39;00m j \u001b[38;5;129;01min\u001b[39;00m \u001b[38;5;28mrange\u001b[39m(\u001b[38;5;28mlen\u001b[39m(states)):\n\u001b[0;32m---> 21\u001b[0m         cost_matrix[i, j] \u001b[38;5;241m=\u001b[39m \u001b[43mnp\u001b[49m\u001b[38;5;241;43m.\u001b[39;49m\u001b[43msum\u001b[49m\u001b[43m(\u001b[49m\u001b[43mnp\u001b[49m\u001b[38;5;241;43m.\u001b[39;49m\u001b[43mabs\u001b[49m\u001b[43m(\u001b[49m\u001b[43mactual_one_hot\u001b[49m\u001b[43m[\u001b[49m\u001b[43mi\u001b[49m\u001b[43m]\u001b[49m\u001b[43m \u001b[49m\u001b[38;5;241;43m-\u001b[39;49m\u001b[43m \u001b[49m\u001b[43mpredicted_one_hot\u001b[49m\u001b[43m[\u001b[49m\u001b[43mj\u001b[49m\u001b[43m]\u001b[49m\u001b[43m)\u001b[49m\u001b[43m)\u001b[49m\n\u001b[1;32m     23\u001b[0m \u001b[38;5;66;03m# Apply Hungarian algorithm\u001b[39;00m\n\u001b[1;32m     24\u001b[0m row_ind, col_ind \u001b[38;5;241m=\u001b[39m linear_sum_assignment(cost_matrix)\n",
      "File \u001b[0;32m<__array_function__ internals>:180\u001b[0m, in \u001b[0;36msum\u001b[0;34m(*args, **kwargs)\u001b[0m\n",
      "File \u001b[0;32m/vol/bitbucket/starter/lib/python3.10/site-packages/numpy/core/fromnumeric.py:2298\u001b[0m, in \u001b[0;36msum\u001b[0;34m(a, axis, dtype, out, keepdims, initial, where)\u001b[0m\n\u001b[1;32m   2295\u001b[0m         \u001b[38;5;28;01mreturn\u001b[39;00m out\n\u001b[1;32m   2296\u001b[0m     \u001b[38;5;28;01mreturn\u001b[39;00m res\n\u001b[0;32m-> 2298\u001b[0m \u001b[38;5;28;01mreturn\u001b[39;00m \u001b[43m_wrapreduction\u001b[49m\u001b[43m(\u001b[49m\u001b[43ma\u001b[49m\u001b[43m,\u001b[49m\u001b[43m \u001b[49m\u001b[43mnp\u001b[49m\u001b[38;5;241;43m.\u001b[39;49m\u001b[43madd\u001b[49m\u001b[43m,\u001b[49m\u001b[43m \u001b[49m\u001b[38;5;124;43m'\u001b[39;49m\u001b[38;5;124;43msum\u001b[39;49m\u001b[38;5;124;43m'\u001b[39;49m\u001b[43m,\u001b[49m\u001b[43m \u001b[49m\u001b[43maxis\u001b[49m\u001b[43m,\u001b[49m\u001b[43m \u001b[49m\u001b[43mdtype\u001b[49m\u001b[43m,\u001b[49m\u001b[43m \u001b[49m\u001b[43mout\u001b[49m\u001b[43m,\u001b[49m\u001b[43m \u001b[49m\u001b[43mkeepdims\u001b[49m\u001b[38;5;241;43m=\u001b[39;49m\u001b[43mkeepdims\u001b[49m\u001b[43m,\u001b[49m\n\u001b[1;32m   2299\u001b[0m \u001b[43m                      \u001b[49m\u001b[43minitial\u001b[49m\u001b[38;5;241;43m=\u001b[39;49m\u001b[43minitial\u001b[49m\u001b[43m,\u001b[49m\u001b[43m \u001b[49m\u001b[43mwhere\u001b[49m\u001b[38;5;241;43m=\u001b[39;49m\u001b[43mwhere\u001b[49m\u001b[43m)\u001b[49m\n",
      "File \u001b[0;32m/vol/bitbucket/starter/lib/python3.10/site-packages/numpy/core/fromnumeric.py:84\u001b[0m, in \u001b[0;36m_wrapreduction\u001b[0;34m(obj, ufunc, method, axis, dtype, out, **kwargs)\u001b[0m\n\u001b[1;32m     82\u001b[0m             \u001b[38;5;28;01mreturn\u001b[39;00m reduction(axis\u001b[38;5;241m=\u001b[39maxis, dtype\u001b[38;5;241m=\u001b[39mdtype, out\u001b[38;5;241m=\u001b[39mout, \u001b[38;5;241m*\u001b[39m\u001b[38;5;241m*\u001b[39mpasskwargs)\n\u001b[1;32m     83\u001b[0m         \u001b[38;5;28;01melse\u001b[39;00m:\n\u001b[0;32m---> 84\u001b[0m             \u001b[38;5;28;01mreturn\u001b[39;00m \u001b[43mreduction\u001b[49m\u001b[43m(\u001b[49m\u001b[43maxis\u001b[49m\u001b[38;5;241;43m=\u001b[39;49m\u001b[43maxis\u001b[49m\u001b[43m,\u001b[49m\u001b[43m \u001b[49m\u001b[43mout\u001b[49m\u001b[38;5;241;43m=\u001b[39;49m\u001b[43mout\u001b[49m\u001b[43m,\u001b[49m\u001b[43m \u001b[49m\u001b[38;5;241;43m*\u001b[39;49m\u001b[38;5;241;43m*\u001b[39;49m\u001b[43mpasskwargs\u001b[49m\u001b[43m)\u001b[49m\n\u001b[1;32m     86\u001b[0m \u001b[38;5;28;01mreturn\u001b[39;00m ufunc\u001b[38;5;241m.\u001b[39mreduce(obj, axis, dtype, out, \u001b[38;5;241m*\u001b[39m\u001b[38;5;241m*\u001b[39mpasskwargs)\n",
      "\u001b[0;31mTypeError\u001b[0m: sum() received an invalid combination of arguments - got (out=NoneType, axis=NoneType, ), but expected one of:\n * (*, torch.dtype dtype)\n      didn't match because some of the keywords were incorrect: out, axis\n * (tuple of ints dim, bool keepdim, *, torch.dtype dtype)\n * (tuple of names dim, bool keepdim, *, torch.dtype dtype)\n"
     ]
    }
   ],
   "source": [
    "# # Unique states\n",
    "# states = torch.unique(torch.cat((state_sample.to(device), predicted_states.to(device))))\n",
    "# print(states)\n",
    "\n",
    "# # One-hot encoding\n",
    "# def one_hot_encode(sequence, states):\n",
    "#     one_hot = torch.zeros(len(states), len(sequence), dtype=torch.int32)\n",
    "#     for i, s in enumerate(sequence):\n",
    "#         # Find the index of state 's' in the list of unique states\n",
    "#         state_idx = (states == s).nonzero(as_tuple=True)[0].item()\n",
    "#         one_hot[state_idx, i] = 1\n",
    "#     return one_hot\n",
    "\n",
    "# actual_one_hot = torch.nn.functional.one_hot(state_sample.long)\n",
    "# predicted_one_hot = torch.nn.functional.one_hot(predicted_states.long())\n",
    "\n",
    "# # Compute the cost matrix (L1 norm difference between states)\n",
    "# cost_matrix = np.zeros((len(states), len(states)))\n",
    "# for i in range(len(states)):\n",
    "#     for j in range(len(states)):\n",
    "#         cost_matrix[i, j] = np.sum(np.abs(actual_one_hot[i] - predicted_one_hot[j]))\n",
    "\n",
    "# # Apply Hungarian algorithm\n",
    "# row_ind, col_ind = linear_sum_assignment(cost_matrix)\n",
    "\n",
    "# # Get the optimal permutation of states\n",
    "# optimal_permutation = col_ind\n",
    "\n",
    "# print(\"Optimal permutation of states:\", optimal_permutation)\n",
    "\n",
    "# # Reorder B's states according to the optimal permutation\n",
    "# predicted_states_permuted = predicted_states.clone()\n",
    "# for i, j in enumerate(optimal_permutation):\n",
    "#     predicted_states_permuted[predicted_states == states[j]] = states[i]\n",
    "\n",
    "# print(\"Reordered B:\", predicted_states_permuted)"
   ]
  },
  {
   "cell_type": "code",
   "execution_count": null,
   "metadata": {},
   "outputs": [],
   "source": []
  }
 ],
 "metadata": {
  "kernelspec": {
   "display_name": "starter",
   "language": "python",
   "name": "python3"
  },
  "language_info": {
   "codemirror_mode": {
    "name": "ipython",
    "version": 3
   },
   "file_extension": ".py",
   "mimetype": "text/x-python",
   "name": "python",
   "nbconvert_exporter": "python",
   "pygments_lexer": "ipython3",
   "version": "3.10.12"
  }
 },
 "nbformat": 4,
 "nbformat_minor": 2
}
